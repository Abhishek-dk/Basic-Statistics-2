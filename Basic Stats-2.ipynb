{
 "cells": [
  {
   "cell_type": "code",
   "execution_count": null,
   "id": "b45e7844",
   "metadata": {},
   "outputs": [],
   "source": []
  },
  {
   "cell_type": "markdown",
   "id": "a1d54161",
   "metadata": {},
   "source": [
    "# assignment 2 -BS2-Q2"
   ]
  },
  {
   "cell_type": "code",
   "execution_count": 1,
   "id": "89ab4160",
   "metadata": {},
   "outputs": [],
   "source": [
    "from scipy import stats\n",
    "from scipy.stats import norm"
   ]
  },
  {
   "cell_type": "code",
   "execution_count": 8,
   "id": "881b428c",
   "metadata": {},
   "outputs": [
    {
     "name": "stdout",
     "output_type": "stream",
     "text": [
      "P(X>44) :  0.15865525393145707\n",
      "P(38<X<44) : 0.3413447460685429\n"
     ]
    }
   ],
   "source": [
    "# A. More employees at the processing center are older than 44 than between 38 and 44.\n",
    "\n",
    "# p(X>44); Employees older than 44 yrs of age\n",
    "print(\"P(X>44) : \",1-stats.norm.cdf(44,loc=38,scale=6))\n",
    "\n",
    "# p(38<X<44); Employees between 38 to 44 yrs of age\n",
    "print(\"P(38<X<44) :\",stats.norm.cdf(44,38,6)-stats.norm.cdf(38,38,6))"
   ]
  },
  {
   "cell_type": "code",
   "execution_count": 6,
   "id": "6a5d3279",
   "metadata": {},
   "outputs": [
    {
     "name": "stdout",
     "output_type": "stream",
     "text": [
      "p(x<30) :  0.09121121972586788\n",
      "N*P(X<30) :  36.484487890347154\n"
     ]
    }
   ],
   "source": [
    "# B. A training program for employees under the age of 30 at the center would be expected to attract about 36 employees.\n",
    "\n",
    "# P(X<30); Employees under 30 yrs of age\n",
    "print(\"p(x<30) : \",stats.norm.cdf(30,38,6))\n",
    "\n",
    "# No. of employees attending training program from 400 nos. is N*P(X<30)\n",
    "print(\"N*P(X<30) : \",400*stats.norm.cdf(30,38,6))\n",
    "\n",
    " "
   ]
  },
  {
   "cell_type": "markdown",
   "id": "97632dab",
   "metadata": {},
   "source": [
    "# Q3"
   ]
  },
  {
   "cell_type": "code",
   "execution_count": 9,
   "id": "34578bdd",
   "metadata": {},
   "outputs": [
    {
     "data": {
      "text/plain": [
       "(48.48341392902199, 151.516586070978)"
      ]
     },
     "execution_count": 9,
     "metadata": {},
     "output_type": "execute_result"
    }
   ],
   "source": [
    "from scipy import stats\n",
    "from scipy.stats import norm\n",
    "stats.norm.interval(0.99,100,20)"
   ]
  },
  {
   "cell_type": "markdown",
   "id": "e522cb28",
   "metadata": {},
   "source": [
    "# Q4"
   ]
  },
  {
   "cell_type": "code",
   "execution_count": 11,
   "id": "1b9f7b99",
   "metadata": {},
   "outputs": [
    {
     "name": "stdout",
     "output_type": "stream",
     "text": [
      "Mean Profit is Rs 540 Million\n",
      "Standard Deviation is Rs 315 Million\n",
      "Range is Rs (-77.38865513011706, 1157.388655130117) in Millions\n",
      "5th percentile of profit (in Million Rupees) is 23.4\n",
      "C:  0.0477903522728147\n",
      "P(x<0) 0.040059156863817086\n"
     ]
    }
   ],
   "source": [
    "import numpy as np\n",
    "from scipy import stats\n",
    "from scipy.stats import norm\n",
    "\n",
    "# Mean profits from two different divisions of a company = Mean1 + Mean2\n",
    "Mean = 5+7\n",
    "print('Mean Profit is Rs', Mean*45,'Million')\n",
    "\n",
    "# Variance of profits from two different divisions of a company = SD^2 = SD1^2 + SD2^2\n",
    "SD = (3^2)+(4^2)\n",
    "print('Standard Deviation is Rs', SD*45, 'Million')\n",
    "\n",
    "# A. Specify a Rupee range (centered on the mean) such that it contains 95% probability for the annual profit of the company.\n",
    "print('Range is Rs',(stats.norm.interval(0.95,540,315)),'in Millions')\n",
    "\n",
    "# B. Specify the 5th percentile of profit (in Rupees) for the company\n",
    "# To compute 5th Percentile, we use the formula X=μ + Zσ; wherein from z table, 5 percentile = -1.64\n",
    "X= 540+(-1.64)*(315)\n",
    "print('5th percentile of profit (in Million Rupees) is',np.round(X,2))\n",
    "\n",
    "# C. Which of the two divisions has a larger probability of making a loss in a given year?\n",
    "# Probability of Division 1 making a loss P(X<0)\n",
    "print(\"C: \", stats.norm.cdf(0,5,3))\n",
    "\n",
    "# Probability of Division 2 making a loss P(X<0)\n",
    "print(\"P(x<0)\",stats.norm.cdf(0,7,4))\n"
   ]
  },
  {
   "cell_type": "code",
   "execution_count": null,
   "id": "298969d2",
   "metadata": {},
   "outputs": [],
   "source": []
  }
 ],
 "metadata": {
  "kernelspec": {
   "display_name": "Python 3 (ipykernel)",
   "language": "python",
   "name": "python3"
  },
  "language_info": {
   "codemirror_mode": {
    "name": "ipython",
    "version": 3
   },
   "file_extension": ".py",
   "mimetype": "text/x-python",
   "name": "python",
   "nbconvert_exporter": "python",
   "pygments_lexer": "ipython3",
   "version": "3.9.13"
  }
 },
 "nbformat": 4,
 "nbformat_minor": 5
}
